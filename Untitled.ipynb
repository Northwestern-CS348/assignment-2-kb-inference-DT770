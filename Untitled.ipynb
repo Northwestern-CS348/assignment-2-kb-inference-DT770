{
 "cells": [
  {
   "cell_type": "code",
   "execution_count": 1,
   "metadata": {},
   "outputs": [],
   "source": [
    "import read, copy\n",
    "from util import *\n",
    "from logical_classes import *\n",
    "from student_code import KnowledgeBase"
   ]
  },
  {
   "cell_type": "code",
   "execution_count": 2,
   "metadata": {},
   "outputs": [],
   "source": [
    "file = 'statements_kb5.txt'\n",
    "data = read.read_tokenize(file)"
   ]
  },
  {
   "cell_type": "code",
   "execution_count": 3,
   "metadata": {},
   "outputs": [
    {
     "data": {
      "text/plain": [
       "[Fact('fact', Statement('motherof', [Term(Constant('ada')), Term(Constant('bing'))]), True, [], [], []),\n",
       " Fact('fact', Statement('sisters', [Term(Constant('ada')), Term(Constant('eva'))]), True, [], [], []),\n",
       " Fact('fact', Statement('motherof', [Term(Constant('bing')), Term(Constant('chen'))]), True, [], [], []),\n",
       " Fact('fact', Statement('motherof', [Term(Constant('dolores')), Term(Constant('chen'))]), True, [], [], []),\n",
       " Fact('fact', Statement('grandmotherof', [Term(Constant('ada')), Term(Constant('felix'))]), True, [], [], []),\n",
       " Fact('fact', Statement('motherof', [Term(Constant('greta')), Term(Constant('felix'))]), True, [], [], []),\n",
       " Fact('fact', Statement('parentof', [Term(Constant('dirk')), Term(Constant('rose'))]), True, [], [], []),\n",
       " Fact('fact', Statement('motherrof', [Term(Constant('marry')), Term(Constant('dirk'))]), True, [], [], []),\n",
       " Rule('rule', [Statement('motherof', [Term(Variable('?x')), Term(Variable('?y'))])], Statement('parentof', [Term(Variable('?x')), Term(Variable('?y'))]), True, [], [], []),\n",
       " Rule('rule', [Statement('parentof', [Term(Variable('?x')), Term(Variable('?y'))]), Statement('sisters', [Term(Variable('?x')), Term(Variable('?z'))])], Statement('auntof', [Term(Variable('?z')), Term(Variable('?y'))]), True, [], [], []),\n",
       " Rule('rule', [Statement('parentof', [Term(Variable('?x')), Term(Variable('?y'))]), Statement('motherof', [Term(Variable('?z')), Term(Variable('?x'))])], Statement('grandmotherof', [Term(Variable('?z')), Term(Variable('?y'))]), True, [], [], [])]"
      ]
     },
     "execution_count": 3,
     "metadata": {},
     "output_type": "execute_result"
    }
   ],
   "source": [
    "data"
   ]
  },
  {
   "cell_type": "code",
   "execution_count": 4,
   "metadata": {},
   "outputs": [],
   "source": [
    "ask1 = read.parse_input(\"fact: (parentof ada hgy)\")"
   ]
  },
  {
   "cell_type": "code",
   "execution_count": 5,
   "metadata": {},
   "outputs": [
    {
     "data": {
      "text/plain": [
       "Statement('parentof', [Term(Constant('ada')), Term(Constant('hgy'))])"
      ]
     },
     "execution_count": 5,
     "metadata": {},
     "output_type": "execute_result"
    }
   ],
   "source": [
    "ask1.statement"
   ]
  },
  {
   "cell_type": "code",
   "execution_count": 6,
   "metadata": {},
   "outputs": [],
   "source": [
    "rule=data[10]"
   ]
  },
  {
   "cell_type": "code",
   "execution_count": 7,
   "metadata": {},
   "outputs": [
    {
     "data": {
      "text/plain": [
       "Statement('parentof', [Term(Variable('?x')), Term(Variable('?y'))])"
      ]
     },
     "execution_count": 7,
     "metadata": {},
     "output_type": "execute_result"
    }
   ],
   "source": [
    "rule.lhs[0]"
   ]
  },
  {
   "cell_type": "code",
   "execution_count": 8,
   "metadata": {},
   "outputs": [],
   "source": [
    "bindings = match(ask1.statement,rule.lhs[0])"
   ]
  },
  {
   "cell_type": "code",
   "execution_count": 9,
   "metadata": {},
   "outputs": [
    {
     "name": "stdout",
     "output_type": "stream",
     "text": [
      "(motherof ?z ada)\n"
     ]
    }
   ],
   "source": [
    "for item in rule.lhs[1:]:\n",
    "    print (instantiate(item,bindings))\n"
   ]
  },
  {
   "cell_type": "code",
   "execution_count": 10,
   "metadata": {},
   "outputs": [
    {
     "data": {
      "text/plain": [
       "{'?x': 'ada', '?y': 'hgy'}"
      ]
     },
     "execution_count": 10,
     "metadata": {},
     "output_type": "execute_result"
    }
   ],
   "source": [
    "bindings.bindings_dict"
   ]
  },
  {
   "cell_type": "code",
   "execution_count": 11,
   "metadata": {},
   "outputs": [
    {
     "data": {
      "text/plain": [
       "[Statement('parentof', [Term(Variable('?x')), Term(Variable('?y'))]),\n",
       " Statement('motherof', [Term(Variable('?z')), Term(Variable('?x'))])]"
      ]
     },
     "execution_count": 11,
     "metadata": {},
     "output_type": "execute_result"
    }
   ],
   "source": [
    "rule.lhs"
   ]
  },
  {
   "cell_type": "code",
   "execution_count": 12,
   "metadata": {},
   "outputs": [],
   "source": [
    "new_rule_lhs = []"
   ]
  },
  {
   "cell_type": "code",
   "execution_count": 13,
   "metadata": {},
   "outputs": [],
   "source": [
    "new_rule_lhs.append(instantiate(rule.lhs[1] ,bindings))"
   ]
  },
  {
   "cell_type": "code",
   "execution_count": 14,
   "metadata": {},
   "outputs": [
    {
     "data": {
      "text/plain": [
       "[Statement('motherof', [Term(Variable('?z')), Term(Constant('ada'))])]"
      ]
     },
     "execution_count": 14,
     "metadata": {},
     "output_type": "execute_result"
    }
   ],
   "source": [
    "new_rule_lhs"
   ]
  },
  {
   "cell_type": "code",
   "execution_count": 15,
   "metadata": {},
   "outputs": [
    {
     "name": "stdout",
     "output_type": "stream",
     "text": [
      "Object `index` not found.\n"
     ]
    }
   ],
   "source": [
    "?index"
   ]
  },
  {
   "cell_type": "code",
   "execution_count": 18,
   "metadata": {},
   "outputs": [],
   "source": [
    "a = [2,4,6,8,10,12,14]"
   ]
  },
  {
   "cell_type": "code",
   "execution_count": 24,
   "metadata": {},
   "outputs": [
    {
     "data": {
      "text/plain": [
       "6"
      ]
     },
     "execution_count": 24,
     "metadata": {},
     "output_type": "execute_result"
    }
   ],
   "source": [
    "a.index(14)"
   ]
  },
  {
   "cell_type": "code",
   "execution_count": null,
   "metadata": {},
   "outputs": [],
   "source": []
  }
 ],
 "metadata": {
  "kernelspec": {
   "display_name": "Python 3",
   "language": "python",
   "name": "python3"
  },
  "language_info": {
   "codemirror_mode": {
    "name": "ipython",
    "version": 3
   },
   "file_extension": ".py",
   "mimetype": "text/x-python",
   "name": "python",
   "nbconvert_exporter": "python",
   "pygments_lexer": "ipython3",
   "version": "3.7.1"
  }
 },
 "nbformat": 4,
 "nbformat_minor": 2
}
