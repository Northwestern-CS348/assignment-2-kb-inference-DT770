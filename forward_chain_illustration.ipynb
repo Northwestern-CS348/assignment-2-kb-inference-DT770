{
 "cells": [
  {
   "cell_type": "code",
   "execution_count": 32,
   "metadata": {},
   "outputs": [],
   "source": [
    "import unittest\n",
    "import read, copy\n",
    "from logical_classes import *\n",
    "from student_code import KnowledgeBase\n",
    "from util import *"
   ]
  },
  {
   "cell_type": "code",
   "execution_count": 33,
   "metadata": {},
   "outputs": [],
   "source": [
    "file = 'statements_kb5.txt'\n",
    "data = read.read_tokenize(file)"
   ]
  },
  {
   "cell_type": "code",
   "execution_count": 34,
   "metadata": {},
   "outputs": [],
   "source": [
    "fact = data[0]\n",
    "rule = data[7]\n",
    "\n",
    "fact2= data[6]\n",
    "rule2= data[10]"
   ]
  },
  {
   "cell_type": "markdown",
   "metadata": {},
   "source": [
    "##### Review new_rule result"
   ]
  },
  {
   "cell_type": "code",
   "execution_count": 37,
   "metadata": {},
   "outputs": [],
   "source": [
    "bindings= match(fact2.statement,rule2.lhs[0])"
   ]
  },
  {
   "cell_type": "code",
   "execution_count": null,
   "metadata": {},
   "outputs": [],
   "source": []
  },
  {
   "cell_type": "code",
   "execution_count": null,
   "metadata": {},
   "outputs": [],
   "source": []
  },
  {
   "cell_type": "code",
   "execution_count": null,
   "metadata": {},
   "outputs": [],
   "source": []
  },
  {
   "cell_type": "code",
   "execution_count": null,
   "metadata": {},
   "outputs": [],
   "source": []
  },
  {
   "cell_type": "code",
   "execution_count": null,
   "metadata": {},
   "outputs": [],
   "source": []
  },
  {
   "cell_type": "code",
   "execution_count": null,
   "metadata": {},
   "outputs": [],
   "source": []
  },
  {
   "cell_type": "markdown",
   "metadata": {},
   "source": [
    "##### Review new_fact  result"
   ]
  },
  {
   "cell_type": "code",
   "execution_count": 4,
   "metadata": {},
   "outputs": [],
   "source": [
    "bindings = match(fact.statement,rule.lhs[0])"
   ]
  },
  {
   "cell_type": "code",
   "execution_count": 5,
   "metadata": {},
   "outputs": [
    {
     "data": {
      "text/plain": [
       "[Binding(Variable('?x'), Constant('ada')),\n",
       " Binding(Variable('?y'), Constant('bing'))]"
      ]
     },
     "execution_count": 5,
     "metadata": {},
     "output_type": "execute_result"
    }
   ],
   "source": [
    "bindings.bindings"
   ]
  },
  {
   "cell_type": "code",
   "execution_count": 6,
   "metadata": {},
   "outputs": [],
   "source": [
    "new_rule_rhs = instantiate(rule.rhs,bindings)"
   ]
  },
  {
   "cell_type": "code",
   "execution_count": 22,
   "metadata": {},
   "outputs": [
    {
     "data": {
      "text/plain": [
       "Statement('parentof', [Term(Constant('ada')), Term(Constant('bing'))])"
      ]
     },
     "execution_count": 22,
     "metadata": {},
     "output_type": "execute_result"
    }
   ],
   "source": [
    "new_rule_rhs"
   ]
  },
  {
   "cell_type": "code",
   "execution_count": 9,
   "metadata": {},
   "outputs": [],
   "source": [
    "new_fact = Fact(new_rule_rhs,supported_by=[fact,rule])"
   ]
  },
  {
   "cell_type": "code",
   "execution_count": 41,
   "metadata": {},
   "outputs": [
    {
     "data": {
      "text/plain": [
       "Fact('fact', Statement('parentof', [Term(Constant('ada')), Term(Constant('bing'))]), False, [Fact('fact', Statement('motherof', [Term(Constant('ada')), Term(Constant('bing'))]), True, [], [Fact('fact', Statement('parentof', [Term(Constant('ada')), Term(Constant('bing'))]), False, [...], [], [])], []), Rule('rule', [Statement('motherof', [Term(Variable('?x')), Term(Variable('?y'))])], Statement('parentof', [Term(Variable('?x')), Term(Variable('?y'))]), True, [], [Fact('fact', Statement('parentof', [Term(Constant('ada')), Term(Constant('bing'))]), False, [...], [], [])], [])], [], [])"
      ]
     },
     "execution_count": 41,
     "metadata": {},
     "output_type": "execute_result"
    }
   ],
   "source": [
    "new_fact"
   ]
  },
  {
   "cell_type": "code",
   "execution_count": 21,
   "metadata": {},
   "outputs": [
    {
     "data": {
      "text/plain": [
       "Fact('fact', Statement('motherof', [Term(Constant('ada')), Term(Constant('bing'))]), True, [], [], [])"
      ]
     },
     "execution_count": 21,
     "metadata": {},
     "output_type": "execute_result"
    }
   ],
   "source": [
    "new_fact.supported_by[0]"
   ]
  },
  {
   "cell_type": "code",
   "execution_count": 18,
   "metadata": {},
   "outputs": [
    {
     "data": {
      "text/plain": [
       "Rule('rule', [Statement('motherof', [Term(Variable('?x')), Term(Variable('?y'))])], Statement('parentof', [Term(Variable('?x')), Term(Variable('?y'))]), True, [], [], [])"
      ]
     },
     "execution_count": 18,
     "metadata": {},
     "output_type": "execute_result"
    }
   ],
   "source": [
    "new_fact.supported_by[1]"
   ]
  },
  {
   "cell_type": "code",
   "execution_count": 24,
   "metadata": {},
   "outputs": [],
   "source": [
    "fact.supports_facts.append(new_fact)"
   ]
  },
  {
   "cell_type": "code",
   "execution_count": 44,
   "metadata": {},
   "outputs": [
    {
     "data": {
      "text/plain": [
       "[]"
      ]
     },
     "execution_count": 44,
     "metadata": {},
     "output_type": "execute_result"
    }
   ],
   "source": [
    "new_fact.supports_facts"
   ]
  },
  {
   "cell_type": "code",
   "execution_count": 29,
   "metadata": {},
   "outputs": [],
   "source": [
    "rule.supports_facts.append(new_fact)"
   ]
  },
  {
   "cell_type": "code",
   "execution_count": 30,
   "metadata": {},
   "outputs": [
    {
     "data": {
      "text/plain": [
       "[Fact('fact', Statement('parentof', [Term(Constant('ada')), Term(Constant('bing'))]), False, [Fact('fact', Statement('motherof', [Term(Constant('ada')), Term(Constant('bing'))]), True, [], [Fact('fact', Statement('parentof', [Term(Constant('ada')), Term(Constant('bing'))]), False, [...], [], [])], []), Rule('rule', [Statement('motherof', [Term(Variable('?x')), Term(Variable('?y'))])], Statement('parentof', [Term(Variable('?x')), Term(Variable('?y'))]), True, [], [Fact('fact', Statement('parentof', [Term(Constant('ada')), Term(Constant('bing'))]), False, [...], [], [])], [])], [], [])]"
      ]
     },
     "execution_count": 30,
     "metadata": {},
     "output_type": "execute_result"
    }
   ],
   "source": [
    "rule.supports_facts"
   ]
  },
  {
   "cell_type": "code",
   "execution_count": 45,
   "metadata": {},
   "outputs": [],
   "source": [
    "fact.supports_facts.append(new_fact)"
   ]
  },
  {
   "cell_type": "code",
   "execution_count": 50,
   "metadata": {},
   "outputs": [
    {
     "data": {
      "text/plain": [
       "[Fact('fact', Statement('motherof', [Term(Constant('ada')), Term(Constant('bing'))]), True, [], [Fact('fact', Statement('parentof', [Term(Constant('ada')), Term(Constant('bing'))]), False, [Fact('fact', Statement('motherof', [Term(Constant('ada')), Term(Constant('bing'))]), True, [], [...], []), Rule('rule', [Statement('motherof', [Term(Variable('?x')), Term(Variable('?y'))])], Statement('parentof', [Term(Variable('?x')), Term(Variable('?y'))]), True, [], [Fact('fact', Statement('parentof', [Term(Constant('ada')), Term(Constant('bing'))]), False, [...], [], [])], [])], [], [])], []),\n",
       " Rule('rule', [Statement('motherof', [Term(Variable('?x')), Term(Variable('?y'))])], Statement('parentof', [Term(Variable('?x')), Term(Variable('?y'))]), True, [], [Fact('fact', Statement('parentof', [Term(Constant('ada')), Term(Constant('bing'))]), False, [Fact('fact', Statement('motherof', [Term(Constant('ada')), Term(Constant('bing'))]), True, [], [Fact('fact', Statement('parentof', [Term(Constant('ada')), Term(Constant('bing'))]), False, [...], [], [])], []), Rule('rule', [Statement('motherof', [Term(Variable('?x')), Term(Variable('?y'))])], Statement('parentof', [Term(Variable('?x')), Term(Variable('?y'))]), True, [], [...], [])], [], [])], [])]"
      ]
     },
     "execution_count": 50,
     "metadata": {},
     "output_type": "execute_result"
    }
   ],
   "source": [
    "new_fact.supported_by"
   ]
  },
  {
   "cell_type": "code",
   "execution_count": 51,
   "metadata": {},
   "outputs": [
    {
     "data": {
      "text/plain": [
       "Fact('fact', Statement('parentof', [Term(Constant('ada')), Term(Constant('bing'))]), False, [Fact('fact', Statement('motherof', [Term(Constant('ada')), Term(Constant('bing'))]), True, [], [Fact('fact', Statement('parentof', [Term(Constant('ada')), Term(Constant('bing'))]), False, [...], [], [])], []), Rule('rule', [Statement('motherof', [Term(Variable('?x')), Term(Variable('?y'))])], Statement('parentof', [Term(Variable('?x')), Term(Variable('?y'))]), True, [], [Fact('fact', Statement('parentof', [Term(Constant('ada')), Term(Constant('bing'))]), False, [...], [], [])], [])], [], [])"
      ]
     },
     "execution_count": 51,
     "metadata": {},
     "output_type": "execute_result"
    }
   ],
   "source": [
    "new_fact"
   ]
  },
  {
   "cell_type": "code",
   "execution_count": 53,
   "metadata": {},
   "outputs": [
    {
     "data": {
      "text/plain": [
       "Fact('fact', Statement('motherof', [Term(Constant('ada')), Term(Constant('bing'))]), True, [], [Fact('fact', Statement('parentof', [Term(Constant('ada')), Term(Constant('bing'))]), False, [Fact('fact', Statement('motherof', [Term(Constant('ada')), Term(Constant('bing'))]), True, [], [...], []), Rule('rule', [Statement('motherof', [Term(Variable('?x')), Term(Variable('?y'))])], Statement('parentof', [Term(Variable('?x')), Term(Variable('?y'))]), True, [], [Fact('fact', Statement('parentof', [Term(Constant('ada')), Term(Constant('bing'))]), False, [...], [], [])], [])], [], [])], [])"
      ]
     },
     "execution_count": 53,
     "metadata": {},
     "output_type": "execute_result"
    }
   ],
   "source": [
    "new_fact.supported_by[0]"
   ]
  },
  {
   "cell_type": "code",
   "execution_count": 54,
   "metadata": {},
   "outputs": [
    {
     "data": {
      "text/plain": [
       "Rule('rule', [Statement('motherof', [Term(Variable('?x')), Term(Variable('?y'))])], Statement('parentof', [Term(Variable('?x')), Term(Variable('?y'))]), True, [], [Fact('fact', Statement('parentof', [Term(Constant('ada')), Term(Constant('bing'))]), False, [Fact('fact', Statement('motherof', [Term(Constant('ada')), Term(Constant('bing'))]), True, [], [Fact('fact', Statement('parentof', [Term(Constant('ada')), Term(Constant('bing'))]), False, [...], [], [])], []), Rule('rule', [Statement('motherof', [Term(Variable('?x')), Term(Variable('?y'))])], Statement('parentof', [Term(Variable('?x')), Term(Variable('?y'))]), True, [], [...], [])], [], [])], [])"
      ]
     },
     "execution_count": 54,
     "metadata": {},
     "output_type": "execute_result"
    }
   ],
   "source": [
    "new_fact.supported_by[1]"
   ]
  },
  {
   "cell_type": "code",
   "execution_count": 62,
   "metadata": {},
   "outputs": [],
   "source": [
    "if not fact.asserted:\n",
    "    print( \"it is not asserted\")"
   ]
  },
  {
   "cell_type": "code",
   "execution_count": 74,
   "metadata": {},
   "outputs": [],
   "source": []
  },
  {
   "cell_type": "code",
   "execution_count": 75,
   "metadata": {},
   "outputs": [],
   "source": [
    "new_fact1 = []"
   ]
  },
  {
   "cell_type": "code",
   "execution_count": 76,
   "metadata": {},
   "outputs": [
    {
     "name": "stdout",
     "output_type": "stream",
     "text": [
      "NOT\n"
     ]
    }
   ],
   "source": [
    "if not new_fact1:\n",
    "    print ('NOT')"
   ]
  },
  {
   "cell_type": "code",
   "execution_count": 77,
   "metadata": {},
   "outputs": [
    {
     "name": "stdout",
     "output_type": "stream",
     "text": [
      "# 找到全部要删的fact所支持的rule的集合\n"
     ]
    }
   ],
   "source": [
    "print(\"# 找到全部要删的fact所支持的rule的集合\")"
   ]
  },
  {
   "cell_type": "code",
   "execution_count": null,
   "metadata": {},
   "outputs": [],
   "source": []
  }
 ],
 "metadata": {
  "kernelspec": {
   "display_name": "Python 3",
   "language": "python",
   "name": "python3"
  },
  "language_info": {
   "codemirror_mode": {
    "name": "ipython",
    "version": 3
   },
   "file_extension": ".py",
   "mimetype": "text/x-python",
   "name": "python",
   "nbconvert_exporter": "python",
   "pygments_lexer": "ipython3",
   "version": "3.7.1"
  }
 },
 "nbformat": 4,
 "nbformat_minor": 2
}
